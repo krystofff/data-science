{
 "cells": [
  {
   "cell_type": "markdown",
   "metadata": {},
   "source": [
    "# Elementos básicos de Python"
   ]
  },
  {
   "cell_type": "markdown",
   "metadata": {},
   "source": [
    "- Lenguaje de alto nivel: \n",
    "    en concreto significa que está optimizado para ser leído por personas, más que por máquinas.\n",
    "    \n",
    "- Lenguaje interpretado: \n",
    "    el código Python no es compilado directamente para ser ejecutado por una máquina (lenguaje de máquina). El interpretador de python permite por ejemplo ejecutar código Python dinámicamente (a medida vayamos agregándolo), línea por línea, al contrario de lenguajes como Java o C++, dónde debemos compilar el programa para revisar el resultado. Esto permite una mayor flexibilidad en la construcción del código, apoyando la labor investigativa y su objeto, que en nuestro caso son los datos. (Es posible utilizar Python como lenguaje de scripting, sin embargo, nuestra misión/contexto/objetivo es el análisis y su uso interactivo).\n",
    "    \n",
    "- Lenguaje de tipos dinámicos: \n",
    "    similar a lenguajes como Javascript, no es necesario/requisito que especifiquemos de antemano el tipo de dato que debe tener una variable,  o que por ejemplo una variable de tipo numérica pase luego a ser de tipo string. Debido a que no hay una etapa/paso de compilación, no existe un compilador que nos ayude a manejar los tipo de datos, debido a ello generalmente debemos verificar el correcto funcionamiento del código una vez ejecutado.\n",
    "    "
   ]
  },
  {
   "cell_type": "markdown",
   "metadata": {},
   "source": [
    "#### Descripciones generales y ejemplos"
   ]
  },
  {
   "cell_type": "markdown",
   "metadata": {},
   "source": [
    "* Tener presente que el código python en este y otros notebooks (jupyter) es ejecutado en modo interactivo, lo que significa que  el código es enviado desde el navegador a una máquina en la nube, la que ejecuta el código y envía de vuelta el/los resultado/s\n",
    "\n",
    "* Para ejecutar el código en el notebook utiliza ctrl ò shift + enter o haz click en Run (botón play)\n",
    "\n",
    "* Asigna valores sin necesidad de especificar su tipo y realiza operaciones con ellos\n",
    "\n",
    "* No es necesario el uso de palabras reservadas como var, let, entre otras.\n",
    "\n",
    "* No es requisito el uso de punto y coma (;) para el final de línea. Python trabaja con espacios e indentación para \"entender\" el código. (considerando el uso de \"end\")\n"
   ]
  },
  {
   "cell_type": "code",
   "execution_count": 4,
   "metadata": {
    "scrolled": true
   },
   "outputs": [
    {
     "data": {
      "text/plain": [
       "3"
      ]
     },
     "execution_count": 4,
     "metadata": {},
     "output_type": "execute_result"
    }
   ],
   "source": [
    "x = 2 \n",
    "y = 1 \n",
    "\n",
    "# realiza operaciones con variables anteriormente creadas y asignadas, generando un output (salida/resultado) \n",
    "x + y"
   ]
  },
  {
   "cell_type": "markdown",
   "metadata": {},
   "source": [
    "El interpretador de python es [stateful](https://es.wikipedia.org/wiki/Estado_(inform%C3%A1tica)) (puede recordar estados pasados), lo que permite utilizar variables entre diferentes celdas del notebook. Recordar que si modificamos parte del código, debemos volver a ejecutarlo para que esos cambios sean reflejados. También es posible ejecutar todas las celdas en una sola acción, lo que nos ahorra tiempo si queremos realizar varias modificaciones."
   ]
  },
  {
   "cell_type": "markdown",
   "metadata": {},
   "source": [
    "## Funciones en Python\n",
    "\n",
    "Consideraciones:\n",
    "* Con las funciones de Python no es necesario especificar el tipo de dato que retornamos e incluso no se requiere el uso de la palabra reservada \"return\". En tal caso, si no hay valores que retornar, python por defecto nos enviará \"None\", lo que en palabras sencillas representa la ausencia de valor (similar a null en Java).  \n",
    "* Python permite que los parámetros de una función posean valores por defecto. Tener presente que para utilizar esta característica, tales parámetros deben ser declarados al final del conjunto de parámetros de la función.\n",
    "* Con Python es posible asignar funciones a una variable (programación funcional básica)\n",
    "* print() intentará convertir sus argumentos a string e imprimirlos en pantalla. Si bien su uso no es frecuente en el modo interactivo , es útil cuando queremos imprimir múltiples líneas desde una sola celda. "
   ]
  },
  {
   "cell_type": "code",
   "execution_count": 5,
   "metadata": {},
   "outputs": [],
   "source": [
    "def sumar_numeros(x,y):\n",
    "    return x + y"
   ]
  },
  {
   "cell_type": "code",
   "execution_count": 6,
   "metadata": {},
   "outputs": [
    {
     "data": {
      "text/plain": [
       "4"
      ]
     },
     "execution_count": 6,
     "metadata": {},
     "output_type": "execute_result"
    }
   ],
   "source": [
    "sumar_numeros(1,3)"
   ]
  },
  {
   "cell_type": "code",
   "execution_count": 7,
   "metadata": {},
   "outputs": [],
   "source": [
    "a = sumar_numeros"
   ]
  },
  {
   "cell_type": "code",
   "execution_count": 8,
   "metadata": {},
   "outputs": [
    {
     "data": {
      "text/plain": [
       "5"
      ]
     },
     "execution_count": 8,
     "metadata": {},
     "output_type": "execute_result"
    }
   ],
   "source": [
    "a(3,2)"
   ]
  },
  {
   "cell_type": "markdown",
   "metadata": {},
   "source": [
    "## Tipos y Secuencias"
   ]
  },
  {
   "cell_type": "markdown",
   "metadata": {},
   "source": [
    "* Python posee una función llamada type(), la que permite saber el tipo de dato al cual hace referencia el argumento que le pasamos.\n",
    "* Los tipos poseen propiedades asociadas, las cuales pueden ser datos o funciones  "
   ]
  },
  {
   "cell_type": "code",
   "execution_count": 9,
   "metadata": {},
   "outputs": [
    {
     "data": {
      "text/plain": [
       "str"
      ]
     },
     "execution_count": 9,
     "metadata": {},
     "output_type": "execute_result"
    }
   ],
   "source": [
    "type('Este es un string')"
   ]
  },
  {
   "cell_type": "code",
   "execution_count": 10,
   "metadata": {},
   "outputs": [
    {
     "data": {
      "text/plain": [
       "NoneType"
      ]
     },
     "execution_count": 10,
     "metadata": {},
     "output_type": "execute_result"
    }
   ],
   "source": [
    "type(None)"
   ]
  },
  {
   "cell_type": "code",
   "execution_count": 11,
   "metadata": {},
   "outputs": [
    {
     "data": {
      "text/plain": [
       "int"
      ]
     },
     "execution_count": 11,
     "metadata": {},
     "output_type": "execute_result"
    }
   ],
   "source": [
    "type(1234)"
   ]
  },
  {
   "cell_type": "code",
   "execution_count": 12,
   "metadata": {},
   "outputs": [
    {
     "data": {
      "text/plain": [
       "float"
      ]
     },
     "execution_count": 12,
     "metadata": {},
     "output_type": "execute_result"
    }
   ],
   "source": [
    "type(3.14)"
   ]
  },
  {
   "cell_type": "code",
   "execution_count": 13,
   "metadata": {},
   "outputs": [
    {
     "data": {
      "text/plain": [
       "function"
      ]
     },
     "execution_count": 13,
     "metadata": {},
     "output_type": "execute_result"
    }
   ],
   "source": [
    "type(sumar_numeros)"
   ]
  },
  {
   "cell_type": "markdown",
   "metadata": {},
   "source": [
    "## Colecciones"
   ]
  },
  {
   "cell_type": "markdown",
   "metadata": {},
   "source": [
    "* Tuplas: es una secuencia inmutable  de variables. Esto significa que una tupla almacena items en orden, los cuales no pueden modificarse una vez creada.\n",
    "\n",
    "* Listas: similar a las tuplas una lista almacena items, pero pudiendo modificar su tamaño, número de items y valores de los items.\n",
    " \n",
    "* Diccionarios: tal como las tuplas y listas, los diccionarios almacenan una colección de items/elementos. Sin embargo, la diferencia radica en que a cada item es posible asignarle un nombre/tag y éstos no poseen un orden específico. Esto significa, que si queremos insertar un nuevo elemento al diccionario, debemos especificar su \"nombre\" o más comúnmente llamada \"llave\". Así, cada elemento del diccionario se compone de una llave y un valor (esta estructura es equivalente a lo que en otros lenguajes llaman map).  "
   ]
  },
  {
   "cell_type": "code",
   "execution_count": 14,
   "metadata": {},
   "outputs": [
    {
     "data": {
      "text/plain": [
       "tuple"
      ]
     },
     "execution_count": 14,
     "metadata": {},
     "output_type": "execute_result"
    }
   ],
   "source": [
    "ejemplo_tupla = ('Pedro', 19345987, 'Angélica', 20987345, 'Mónica', 14098456)\n",
    "type(ejemplo_tupla)"
   ]
  },
  {
   "cell_type": "code",
   "execution_count": 15,
   "metadata": {},
   "outputs": [
    {
     "data": {
      "text/plain": [
       "list"
      ]
     },
     "execution_count": 15,
     "metadata": {},
     "output_type": "execute_result"
    }
   ],
   "source": [
    "ejemplo_lista = ['Pedro','Angélica']\n",
    "type(ejemplo_lista)"
   ]
  },
  {
   "cell_type": "code",
   "execution_count": 5,
   "metadata": {},
   "outputs": [
    {
     "name": "stdout",
     "output_type": "stream",
     "text": [
      "19345987\n"
     ]
    }
   ],
   "source": [
    "ejemplo_diccionario = { 'Pedro': 19345987, 'Angélica': 20987345, 'Mónica': 14098456}\n",
    "print(ejemplo_diccionario['Pedro'])"
   ]
  },
  {
   "cell_type": "markdown",
   "metadata": {},
   "source": [
    "* También es posible realizar operaciones en diccionarios"
   ]
  },
  {
   "cell_type": "code",
   "execution_count": 7,
   "metadata": {},
   "outputs": [
    {
     "name": "stdout",
     "output_type": "stream",
     "text": [
      "None\n"
     ]
    }
   ],
   "source": [
    "ejemplo_diccionario['Angélica'] = None\n",
    "print(ejemplo_diccionario['Angélica'])"
   ]
  },
  {
   "cell_type": "markdown",
   "metadata": {},
   "source": [
    "* recorre un diccionario\n"
   ]
  },
  {
   "cell_type": "code",
   "execution_count": 9,
   "metadata": {},
   "outputs": [
    {
     "name": "stdout",
     "output_type": "stream",
     "text": [
      "19345987\n",
      "None\n",
      "14098456\n"
     ]
    }
   ],
   "source": [
    "for item in ejemplo_diccionario:\n",
    "    print(ejemplo_diccionario[item])"
   ]
  },
  {
   "cell_type": "markdown",
   "metadata": {},
   "source": [
    "* obtiene sólo los valores del diccionario"
   ]
  },
  {
   "cell_type": "code",
   "execution_count": 11,
   "metadata": {},
   "outputs": [
    {
     "name": "stdout",
     "output_type": "stream",
     "text": [
      "19345987\n",
      "None\n",
      "14098456\n"
     ]
    }
   ],
   "source": [
    "for item in ejemplo_diccionario.values():\n",
    "    print(item)\n"
   ]
  },
  {
   "cell_type": "markdown",
   "metadata": {},
   "source": [
    "* obtiene \"llave/nombre\" y valores"
   ]
  },
  {
   "cell_type": "code",
   "execution_count": 13,
   "metadata": {},
   "outputs": [
    {
     "name": "stdout",
     "output_type": "stream",
     "text": [
      "Pedro\n",
      "19345987\n",
      "Angélica\n",
      "None\n",
      "Mónica\n",
      "14098456\n"
     ]
    }
   ],
   "source": [
    "for nombre, rut in ejemplo_diccionario.items():\n",
    "    print(nombre)\n",
    "    print(rut)"
   ]
  },
  {
   "cell_type": "markdown",
   "metadata": {},
   "source": [
    "* Con los diccionarios de Python es posible utilizar una técnica llamada \"unpacking\" (desempacar). Esta, permite desempacar un diccionario en distintas variables"
   ]
  },
  {
   "cell_type": "code",
   "execution_count": 17,
   "metadata": {},
   "outputs": [
    {
     "name": "stdout",
     "output_type": "stream",
     "text": [
      "14098456\n",
      "monik@gmail.com\n",
      "Mónica\n"
     ]
    }
   ],
   "source": [
    "\n",
    "diccionario = {'Mónica', 14098456, 'monik@gmail.com'} \n",
    "nombre, rut, email = diccionario\n",
    "\n",
    "print(nombre)\n",
    "print(rut)\n",
    "print(email)"
   ]
  },
  {
   "cell_type": "markdown",
   "metadata": {},
   "source": [
    "* También es posible realizar distintas operaciones en una lista"
   ]
  },
  {
   "cell_type": "code",
   "execution_count": 18,
   "metadata": {},
   "outputs": [
    {
     "name": "stdout",
     "output_type": "stream",
     "text": [
      "['Pedro', 'Angélica', 'Mónica']\n"
     ]
    }
   ],
   "source": [
    "# agrega un nuevo item a la lista\n",
    "ejemplo_lista.append('Mónica')\n",
    "print(ejemplo_lista)"
   ]
  },
  {
   "cell_type": "code",
   "execution_count": 19,
   "metadata": {},
   "outputs": [
    {
     "data": {
      "text/plain": [
       "[1, 2, 3, 4]"
      ]
     },
     "execution_count": 19,
     "metadata": {},
     "output_type": "execute_result"
    }
   ],
   "source": [
    "# concatena 2 listas\n",
    "[1,2] + [3,4]"
   ]
  },
  {
   "cell_type": "code",
   "execution_count": 20,
   "metadata": {},
   "outputs": [
    {
     "data": {
      "text/plain": [
       "[1, 2, 1, 2, 1, 2, 1, 2]"
      ]
     },
     "execution_count": 20,
     "metadata": {},
     "output_type": "execute_result"
    }
   ],
   "source": [
    "# repite valores de lista la cantidad de veces especificada\n",
    "[1,2] * 4"
   ]
  },
  {
   "cell_type": "code",
   "execution_count": 14,
   "metadata": {},
   "outputs": [
    {
     "data": {
      "text/plain": [
       "True"
      ]
     },
     "execution_count": 14,
     "metadata": {},
     "output_type": "execute_result"
    }
   ],
   "source": [
    "# Permite saber si un item se encuentra dentro de una lista\n",
    "2 in [1,2,3,4]"
   ]
  },
  {
   "cell_type": "markdown",
   "metadata": {},
   "source": [
    "* Para Python un string es una cadena de caracteres, lo que permite que las operaciones que hacemos regularmente en una lista, también podamos utilizarlas para strings."
   ]
  },
  {
   "cell_type": "code",
   "execution_count": 17,
   "metadata": {},
   "outputs": [],
   "source": [
    "texto = 'Este es un texto de ejemplo'\n",
    "\n"
   ]
  },
  {
   "cell_type": "markdown",
   "metadata": {},
   "source": [
    "* Cuando queremos obtener una \"tajada\" de un string o lista, especificamos la posición inicial, seguido de dos puntos y finalmente la posición final. Tener presente que la posición final es excluyente y los espacios en blanco son contabilizados."
   ]
  },
  {
   "cell_type": "code",
   "execution_count": 18,
   "metadata": {},
   "outputs": [
    {
     "name": "stdout",
     "output_type": "stream",
     "text": [
      "E\n",
      "Este\n",
      "e es un\n"
     ]
    }
   ],
   "source": [
    "print(texto[0])\n",
    "print(texto[0:4])\n",
    "print(texto[3:10])"
   ]
  },
  {
   "cell_type": "markdown",
   "metadata": {},
   "source": [
    "* El index también puede ser negativo, lo que significa que el recorrido se invierte de atrás hacia delante\n"
   ]
  },
  {
   "cell_type": "code",
   "execution_count": 25,
   "metadata": {},
   "outputs": [
    {
     "name": "stdout",
     "output_type": "stream",
     "text": [
      "o\n",
      "ejemp\n"
     ]
    }
   ],
   "source": [
    "print(texto[-1])\n",
    "print(texto[-7: -2]) "
   ]
  },
  {
   "cell_type": "markdown",
   "metadata": {},
   "source": [
    "* Podemos omitir argumentos, los cuales tendrán su valor por defecto (0)"
   ]
  },
  {
   "cell_type": "code",
   "execution_count": 26,
   "metadata": {},
   "outputs": [
    {
     "name": "stdout",
     "output_type": "stream",
     "text": [
      "Este\n",
      " es un texto de ejemplo\n"
     ]
    }
   ],
   "source": [
    "print(texto[:4])\n",
    "print(texto[4:])"
   ]
  },
  {
   "cell_type": "markdown",
   "metadata": {},
   "source": [
    "* Operaciones en strings"
   ]
  },
  {
   "cell_type": "code",
   "execution_count": 27,
   "metadata": {},
   "outputs": [
    {
     "name": "stdout",
     "output_type": "stream",
     "text": [
      "Este es un texto de ejemplo. Segunda parte del texto de ejemplo\n",
      "Este es un texto de ejemplo. Segunda parte del texto de ejemploEste es un texto de ejemplo. Segunda parte del texto de ejemplo\n",
      "True\n"
     ]
    }
   ],
   "source": [
    "nuevo_texto = texto + '. Segunda parte del texto de ejemplo'\n",
    "print(nuevo_texto)\n",
    "\n",
    "print(nuevo_texto*2)\n",
    "print('ejemplo' in nuevo_texto)"
   ]
  },
  {
   "cell_type": "markdown",
   "metadata": {},
   "source": [
    "* función **split()**: \"rompe\" el string en subtrings basado en un patrón específico obtieniendo los caracteres desde la posición 0, hasta que encuentre el patrón especificado que en este caso es un espacio en blanco (lo que equivale a obtener la primera palabra del texto)"
   ]
  },
  {
   "cell_type": "code",
   "execution_count": 28,
   "metadata": {},
   "outputs": [
    {
     "name": "stdout",
     "output_type": "stream",
     "text": [
      "Este\n"
     ]
    }
   ],
   "source": [
    "print(nuevo_texto.split(' ')[0]) "
   ]
  },
  {
   "cell_type": "markdown",
   "metadata": {},
   "source": [
    "* lo mismo para obtener la última palabra"
   ]
  },
  {
   "cell_type": "code",
   "execution_count": 29,
   "metadata": {},
   "outputs": [
    {
     "name": "stdout",
     "output_type": "stream",
     "text": [
      "ejemplo\n"
     ]
    }
   ],
   "source": [
    "print(nuevo_texto.split(' ')[-1]) "
   ]
  },
  {
   "cell_type": "markdown",
   "metadata": {},
   "source": [
    "* Ambas colecciones (tuplas, listas) son iterables, lo que permite recorrer los elementos/items de cada una."
   ]
  },
  {
   "cell_type": "code",
   "execution_count": 23,
   "metadata": {},
   "outputs": [
    {
     "name": "stdout",
     "output_type": "stream",
     "text": [
      "Pedro\n",
      "Angélica\n",
      "Mónica\n"
     ]
    }
   ],
   "source": [
    "for item in ejemplo_lista:\n",
    "    print(item)"
   ]
  },
  {
   "cell_type": "markdown",
   "metadata": {},
   "source": [
    "* También es posible acceder a items específicos a través del index de cada item, el cual comienza en la posición 0. La función de Python len() permite obtener el tamaño de una lista."
   ]
  },
  {
   "cell_type": "code",
   "execution_count": 24,
   "metadata": {},
   "outputs": [
    {
     "name": "stdout",
     "output_type": "stream",
     "text": [
      "Pedro\n",
      "Angélica\n",
      "Mónica\n",
      "Segundo item de lista:  Angélica\n"
     ]
    }
   ],
   "source": [
    "posicion = 0\n",
    "\n",
    "while posicion != len(ejemplo_lista):\n",
    "    print(ejemplo_lista[posicion])\n",
    "    posicion += 1 # equivale a posicion = posicion +1\n",
    "    \n",
    "print('Segundo item de lista: ', ejemplo_lista[1])"
   ]
  },
  {
   "cell_type": "markdown",
   "metadata": {},
   "source": [
    "### Más sobre strings en Python:\n",
    "\n",
    "* En Python 3 los strings se basan en Unicode. A principios de la computación los caracteres de un string estaban limitados a uno de 256 valores. Esto era suficiente para representar caracteres Mayúsculas y minúsculas del latín, así como también dígitos individuales (0-9). Este lenguaje que reprensenta estos símbolos es llamado ASCII y como puedes ver, era bien compacto. Sin embargo, los símbolos latinos no bastan para representar muchos otros que existen de otras lenguas, o incluso símbolos de otras áreas del saber, como operadores matemáticos.\n",
    "\n",
    "    A raíz de esta necesidad es que se crea UTF  (Unicode Transformation Format), el cual es capaz de representar más de un millón de distintos caracteres. Este no sólo incluye lenguajes humanos, sino que también símbolos como emojis 😎. Python 3 utiliza UTF por defecto, así no tendremos problema al representar grupos de símbolos multinacionales.\n",
    "    \n",
    "    Junto a unicode, python utiliza un lenguaje especial para dar formato a la salida de strings. Como vimos anteriormente, con python no necesitamos explicitar el tipo de dato de una variable, sin embargo, esta ventaja tiene costos. Uno de esos costos es que si el interpretador de Python no es capaz de dar formato automáticamente a una variable, debemos hacer esta conversión manualmente.\n"
   ]
  },
  {
   "cell_type": "code",
   "execution_count": 2,
   "metadata": {},
   "outputs": [
    {
     "ename": "TypeError",
     "evalue": "can only concatenate str (not \"int\") to str",
     "output_type": "error",
     "traceback": [
      "\u001b[0;31m---------------------------------------------------------------------------\u001b[0m",
      "\u001b[0;31mTypeError\u001b[0m                                 Traceback (most recent call last)",
      "\u001b[0;32m<ipython-input-2-718bd210bdd1>\u001b[0m in \u001b[0;36m<module>\u001b[0;34m\u001b[0m\n\u001b[1;32m      1\u001b[0m \u001b[0;31m# el interpretador no es capaz de dar formato a la concatenacón de un número (int) (lanza error)\u001b[0m\u001b[0;34m\u001b[0m\u001b[0;34m\u001b[0m\u001b[0;34m\u001b[0m\u001b[0m\n\u001b[0;32m----> 2\u001b[0;31m \u001b[0mprint\u001b[0m\u001b[0;34m(\u001b[0m\u001b[0;34m'Mi edad es : '\u001b[0m \u001b[0;34m+\u001b[0m \u001b[0;36m27\u001b[0m\u001b[0;34m)\u001b[0m\u001b[0;34m\u001b[0m\u001b[0;34m\u001b[0m\u001b[0m\n\u001b[0m",
      "\u001b[0;31mTypeError\u001b[0m: can only concatenate str (not \"int\") to str"
     ]
    }
   ],
   "source": [
    "# el interpretador no es capaz de dar formato a la concatenacón de un número (int) (lanza error)\n",
    "print('Mi edad es : ' + 27)"
   ]
  },
  {
   "cell_type": "code",
   "execution_count": 26,
   "metadata": {},
   "outputs": [
    {
     "name": "stdout",
     "output_type": "stream",
     "text": [
      "Mi edad es : 27\n"
     ]
    }
   ],
   "source": [
    "# realizamos la conversión manualmente con la función str()\n",
    "print('Mi edad es : ' + str(27))"
   ]
  },
  {
   "cell_type": "code",
   "execution_count": 27,
   "metadata": {},
   "outputs": [
    {
     "name": "stdout",
     "output_type": "stream",
     "text": [
      "Notebook Levono r78 tiene un precio de 450000 y está ubicado en pasillo B\n",
      "Notebook Levono r78 tiene un precio de 450000 y está ubicado en pasillo B\n"
     ]
    }
   ],
   "source": [
    "# considerando que tendríamos que repetir esta función códigos fuente de gran envergadura \n",
    "# una mejor forma de manejar estos casos sería con el mini lenguaje de formateo de strings de Python:\n",
    "producto = {'nombre': 'Notebook Levono r78', 'precio': 450000, 'ubicacion': 'pasillo B'}\n",
    "\n",
    "descripcion_producto = '{} tiene un precio de {} y está ubicado en {}'\n",
    "\n",
    "# da formato con función format(). Como puedes ver, el orden de los elementos influirá en \n",
    "# el string resultante\n",
    "print(descripcion_producto.format(producto['nombre'], producto['precio'], producto['ubicacion']))\n",
    "\n",
    "# versión compacta con f'strings\n",
    "print(f\"{producto['nombre']} tiene un precio de {producto['precio']} y está ubicado en {producto['ubicacion']}\")\n"
   ]
  },
  {
   "cell_type": "markdown",
   "metadata": {},
   "source": [
    "### Manipulación de strings\n",
    "\n",
    "Python nos brinda distintas herramientas para la manipulación de strings, como:\n",
    "\n",
    "* slice() : recorre un string en busca de patrones, segmentando/extrayendo según la especificación. Esta operación es muy común, por eso recibe el nombre de: regular expression evaluation (evaluación de expresiones regulares), muy útil para tareas de minado de texto por ejemplo. "
   ]
  },
  {
   "cell_type": "code",
   "execution_count": 36,
   "metadata": {},
   "outputs": [
    {
     "data": {
      "text/plain": [
       "\u001b[0;31mInit signature:\u001b[0m \u001b[0mslice\u001b[0m\u001b[0;34m(\u001b[0m\u001b[0mself\u001b[0m\u001b[0;34m,\u001b[0m \u001b[0;34m/\u001b[0m\u001b[0;34m,\u001b[0m \u001b[0;34m*\u001b[0m\u001b[0margs\u001b[0m\u001b[0;34m,\u001b[0m \u001b[0;34m**\u001b[0m\u001b[0mkwargs\u001b[0m\u001b[0;34m)\u001b[0m\u001b[0;34m\u001b[0m\u001b[0;34m\u001b[0m\u001b[0m\n",
       "\u001b[0;31mDocstring:\u001b[0m     \n",
       "slice(stop)\n",
       "slice(start, stop[, step])\n",
       "\n",
       "Create a slice object.  This is used for extended slicing (e.g. a[0:10:2]).\n",
       "\u001b[0;31mType:\u001b[0m           type\n",
       "\u001b[0;31mSubclasses:\u001b[0m     \n"
      ]
     },
     "metadata": {},
     "output_type": "display_data"
    }
   ],
   "source": [
    "slice?"
   ]
  },
  {
   "cell_type": "markdown",
   "metadata": {},
   "source": [
    "* split(): éste método retorna una lista con todas las palabras de un string, pudiendo recibir como primer parámetro un argumento/criterio para hacer la división del string."
   ]
  },
  {
   "cell_type": "code",
   "execution_count": 34,
   "metadata": {},
   "outputs": [
    {
     "name": "stdout",
     "output_type": "stream",
     "text": [
      "['Este ', ' un string']\n",
      "['Este', 'es', 'un', 'string']\n"
     ]
    }
   ],
   "source": [
    "string = \"Este es un string\"\n",
    "split_1 = string.split(\"es\")\n",
    "print(split_1)\n",
    "split_por_espacios = string.split(' ')\n",
    "print(split_por_espacios)"
   ]
  },
  {
   "cell_type": "code",
   "execution_count": 35,
   "metadata": {},
   "outputs": [
    {
     "data": {
      "text/plain": [
       "\u001b[0;31mSignature:\u001b[0m \u001b[0mstring\u001b[0m\u001b[0;34m.\u001b[0m\u001b[0msplit\u001b[0m\u001b[0;34m(\u001b[0m\u001b[0msep\u001b[0m\u001b[0;34m=\u001b[0m\u001b[0;32mNone\u001b[0m\u001b[0;34m,\u001b[0m \u001b[0mmaxsplit\u001b[0m\u001b[0;34m=\u001b[0m\u001b[0;34m-\u001b[0m\u001b[0;36m1\u001b[0m\u001b[0;34m)\u001b[0m\u001b[0;34m\u001b[0m\u001b[0;34m\u001b[0m\u001b[0m\n",
       "\u001b[0;31mDocstring:\u001b[0m\n",
       "Return a list of the words in the string, using sep as the delimiter string.\n",
       "\n",
       "sep\n",
       "  The delimiter according which to split the string.\n",
       "  None (the default value) means split according to any whitespace,\n",
       "  and discard empty strings from the result.\n",
       "maxsplit\n",
       "  Maximum number of splits to do.\n",
       "  -1 (the default value) means no limit.\n",
       "\u001b[0;31mType:\u001b[0m      builtin_function_or_method\n"
      ]
     },
     "metadata": {},
     "output_type": "display_data"
    }
   ],
   "source": [
    "string.split?"
   ]
  },
  {
   "cell_type": "markdown",
   "metadata": {},
   "source": [
    "### Más sobre Python y comprensión de listas"
   ]
  },
  {
   "cell_type": "markdown",
   "metadata": {},
   "source": [
    "* Lambdas: es la forma que ofrece Python de crear funciones anónimas. Estas funciones son como cualquier otra, pero su diferencia radica en que no llevan/poseen nombre. Esta característica permite crear funciones simples de una sola línea sin la necesidad de declarar una función completa en la forma convencional. En las funciones lambda sólo se evalúa una sola expresión y su valor es retornado una vez es ejecutada. Nótese también que este tipo de funciones no acepta valores por defecto como parámetros y tampoco podemos agregar lógica compleja/numerosa dentro de ellas, ya que está limitada a sólo una expresión.\n",
    "\n",
    "    ¿Por qué utilizar lambdas si su funcionalidad es limitada en comparación a las funciones estándar?\n",
    "    En nuestro caso, estas funciones resultan muy útiles para tareas de limpieza de datos"
   ]
  },
  {
   "cell_type": "code",
   "execution_count": 38,
   "metadata": {},
   "outputs": [],
   "source": [
    "suma_lambda = lambda a, b, c : a + b"
   ]
  },
  {
   "cell_type": "code",
   "execution_count": 39,
   "metadata": {},
   "outputs": [
    {
     "data": {
      "text/plain": [
       "3"
      ]
     },
     "execution_count": 39,
     "metadata": {},
     "output_type": "execute_result"
    }
   ],
   "source": [
    "suma_lambda(1,2,3)"
   ]
  },
  {
   "cell_type": "markdown",
   "metadata": {},
   "source": [
    "#### Secuencias\n",
    "Estructuras comunes que generalmente creamos con loops o leyendo un archivo, las cuales permiten iterar sobre sus elementos. Python ofrece una sintaxis abreviada para su creación, llamada Listas por comprensión (List Comprehension). "
   ]
  },
  {
   "cell_type": "code",
   "execution_count": 30,
   "metadata": {},
   "outputs": [
    {
     "data": {
      "text/plain": [
       "[0,\n",
       " 2,\n",
       " 4,\n",
       " 6,\n",
       " 8,\n",
       " 10,\n",
       " 12,\n",
       " 14,\n",
       " 16,\n",
       " 18,\n",
       " 20,\n",
       " 22,\n",
       " 24,\n",
       " 26,\n",
       " 28,\n",
       " 30,\n",
       " 32,\n",
       " 34,\n",
       " 36,\n",
       " 38,\n",
       " 40,\n",
       " 42,\n",
       " 44,\n",
       " 46,\n",
       " 48,\n",
       " 50,\n",
       " 52,\n",
       " 54,\n",
       " 56,\n",
       " 58,\n",
       " 60,\n",
       " 62,\n",
       " 64,\n",
       " 66,\n",
       " 68,\n",
       " 70,\n",
       " 72,\n",
       " 74,\n",
       " 76,\n",
       " 78,\n",
       " 80,\n",
       " 82,\n",
       " 84,\n",
       " 86,\n",
       " 88,\n",
       " 90,\n",
       " 92,\n",
       " 94,\n",
       " 96,\n",
       " 98]"
      ]
     },
     "execution_count": 30,
     "metadata": {},
     "output_type": "execute_result"
    }
   ],
   "source": [
    "numeros_pares = []\n",
    "for numero in range(0, 100):\n",
    "    if numero % 2 == 0:\n",
    "        numeros_pares.append(numero)\n",
    "\n",
    "numeros_pares"
   ]
  },
  {
   "cell_type": "markdown",
   "metadata": {},
   "source": [
    "* Ahora con lista por comprensión, lo que resulta en un código más compacto y generalmente más rápido. No es obligación que utilices este formato, pero sí debes ser capaz de reconocerlo, ya que su uso en ciencia de datos es común."
   ]
  },
  {
   "cell_type": "code",
   "execution_count": 31,
   "metadata": {},
   "outputs": [
    {
     "data": {
      "text/plain": [
       "[0,\n",
       " 2,\n",
       " 4,\n",
       " 6,\n",
       " 8,\n",
       " 10,\n",
       " 12,\n",
       " 14,\n",
       " 16,\n",
       " 18,\n",
       " 20,\n",
       " 22,\n",
       " 24,\n",
       " 26,\n",
       " 28,\n",
       " 30,\n",
       " 32,\n",
       " 34,\n",
       " 36,\n",
       " 38,\n",
       " 40,\n",
       " 42,\n",
       " 44,\n",
       " 46,\n",
       " 48,\n",
       " 50,\n",
       " 52,\n",
       " 54,\n",
       " 56,\n",
       " 58,\n",
       " 60,\n",
       " 62,\n",
       " 64,\n",
       " 66,\n",
       " 68,\n",
       " 70,\n",
       " 72,\n",
       " 74,\n",
       " 76,\n",
       " 78,\n",
       " 80,\n",
       " 82,\n",
       " 84,\n",
       " 86,\n",
       " 88,\n",
       " 90,\n",
       " 92,\n",
       " 94,\n",
       " 96,\n",
       " 98]"
      ]
     },
     "execution_count": 31,
     "metadata": {},
     "output_type": "execute_result"
    }
   ],
   "source": [
    "numeros_pares = [numero for numero in range(0,100) if numero % 2 == 0]\n",
    "numeros_pares"
   ]
  }
 ],
 "metadata": {
  "kernelspec": {
   "display_name": "Python 3",
   "language": "python",
   "name": "python3"
  },
  "language_info": {
   "codemirror_mode": {
    "name": "ipython",
    "version": 3
   },
   "file_extension": ".py",
   "mimetype": "text/x-python",
   "name": "python",
   "nbconvert_exporter": "python",
   "pygments_lexer": "ipython3",
   "version": "3.7.4"
  }
 },
 "nbformat": 4,
 "nbformat_minor": 4
}
