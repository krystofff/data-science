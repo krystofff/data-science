{
  "nbformat": 4,
  "nbformat_minor": 0,
  "metadata": {
    "colab": {
      "name": "evaluacion_de_modelos.ipynb",
      "provenance": [],
      "collapsed_sections": []
    },
    "kernelspec": {
      "name": "python3",
      "display_name": "Python 3"
    }
  },
  "cells": [
    {
      "cell_type": "markdown",
      "metadata": {
        "id": "i1CljM8PNdPP"
      },
      "source": [
        "# **Evaluación de un Modelo de Machine Learning**\n",
        "\n",
        "- Es muy importante escoger los métodos de evaluación que se alinien a los objetivos de nuestra aplicación.\n",
        "\n",
        "- Calcula la métrica de evaluación seleccionada para múltiples y diferentes modelos.\n",
        "\n",
        "- Selecciona el modelo que posea el mejor valor de la métrica de evaluación.\n",
        "\n",
        "\n",
        "En definitiva, se debe seleccionar el modelo o la configuración de parámetros que optimicen las métricas de evaluación, las cuales creemos son importantes para nuestro caso/aplicación.\n",
        "\n",
        "<br>\n",
        "\n",
        "**¿Por qué no basta con la precisión?**\n",
        "\n",
        "- Supongamos tenemos 2 clases:\n",
        "  - Relevante (R): clase positiva\n",
        "  - No Relevante (N): clase negativa\n",
        "\n",
        "- De 1000 items seleccionados al azar, en promedio:\n",
        "  - 1 item es Relevante y posee etiqueta R\n",
        "  - El resto (999 items) no son relevantes y poseen etiqueta N\n",
        "\n",
        "- Recordar que:\n",
        "\n",
        "\\begin{equation*}\n",
        "\\frac{predicciones \\ correctas}{{total \\ de \\ instancias}} =\n",
        "precision\n",
        "\\end{equation*}\n"
      ]
    },
    {
      "cell_type": "markdown",
      "metadata": {
        "id": "NcskYZWHuLev"
      },
      "source": [
        "# **Evaluando modelos de clasificación** \n",
        "\n",
        "### **Matriz de confusión**\n",
        "\n",
        "- [referencia](https://www.youtube.com/watch?v=r5WIImKV1XA)\n",
        "\n",
        "![img](https://drive.google.com/uc?id=1SRlsCNOHTeJ2SVTPbLvdMVn5RTa8ZspL)"
      ]
    },
    {
      "cell_type": "code",
      "metadata": {
        "id": "zkJRnaKZuKH0",
        "outputId": "f7864469-670f-4317-e59c-34df0d1f6681",
        "colab": {
          "base_uri": "https://localhost:8080/",
          "height": 712
        }
      },
      "source": [
        "import numpy as np\n",
        "import matplotlib.pyplot as plt\n",
        "\n",
        "from sklearn import svm, datasets\n",
        "from sklearn.model_selection import train_test_split\n",
        "from sklearn.metrics import plot_confusion_matrix\n",
        "\n",
        "# carga de datos\n",
        "iris = datasets.load_iris()\n",
        "X = iris.data\n",
        "y = iris.target\n",
        "class_names = iris.target_names\n",
        "\n",
        "# divide dataset en subconjuntos de entrenamiento y testing\n",
        "X_train, X_test, y_train, y_test = train_test_split(X, y, random_state=0)\n",
        "\n",
        "# Crea modelo clasficador de tipo support vector classifier\n",
        "classifier = svm.SVC(kernel='linear', C=0.01).fit(X_train, y_train)\n",
        "\n",
        "np.set_printoptions(precision=2)\n",
        "\n",
        "# Arma gráfico con datos sin normalizar y otro con datos normalizados\n",
        "titles_options = [(\"Matriz de confusión sin normalizar\", None),\n",
        "                  (\"Matriz de confusión con datos normalizados\", 'true')]\n",
        "for title, normalize in titles_options:\n",
        "    disp = plot_confusion_matrix(classifier, X_test, y_test,\n",
        "                                 display_labels=class_names,\n",
        "                                 cmap=plt.cm.Blues,\n",
        "                                 normalize=normalize)\n",
        "    disp.ax_.set_title(title)\n",
        "\n",
        "    print(title)\n",
        "    print(disp.confusion_matrix)\n",
        "\n",
        "plt.show()"
      ],
      "execution_count": null,
      "outputs": [
        {
          "output_type": "stream",
          "text": [
            "Matriz de confusión sin normalizar\n",
            "[[13  0  0]\n",
            " [ 0 10  6]\n",
            " [ 0  0  9]]\n",
            "Matriz de confusión con datos normalizados\n",
            "[[1.   0.   0.  ]\n",
            " [0.   0.62 0.38]\n",
            " [0.   0.   1.  ]]\n"
          ],
          "name": "stdout"
        },
        {
          "output_type": "display_data",
          "data": {
            "image/png": "[encoded data removed]",
            "text/plain": [
              "<Figure size 432x288 with 2 Axes>"
            ]
          },
          "metadata": {
            "tags": [],
            "needs_background": "light"
          }
        },
        {
          "output_type": "display_data",
          "data": {
            "image/png": "[encoded data removed]",
            "text/plain": [
              "<Figure size 432x288 with 2 Axes>"
            ]
          },
          "metadata": {
            "tags": [],
            "needs_background": "light"
          }
        }
      ]
    },
    {
      "cell_type": "markdown",
      "metadata": {
        "id": "dRaxLaSSwYl7"
      },
      "source": [
        "### **Curva ROC y área bajo la curva**\n",
        "\n",
        "- [referencia 1](https://www.youtube.com/watch?v=AcbbkCL0dlo)\n",
        "- [referencia 2](https://developers.google.com/machine-learning/crash-course/classification/roc-and-auc?hl=es-419)"
      ]
    },
    {
      "cell_type": "code",
      "metadata": {
        "id": "t4LbNHhku9_K"
      },
      "source": [
        "import numpy as np\n",
        "import matplotlib.pyplot as plt\n",
        "from itertools import cycle\n",
        "\n",
        "from sklearn import svm, datasets\n",
        "from sklearn.metrics import roc_curve, auc\n",
        "from sklearn.model_selection import train_test_split\n",
        "from sklearn.preprocessing import label_binarize\n",
        "from sklearn.multiclass import OneVsRestClassifier\n",
        "from scipy import interp\n",
        "from sklearn.metrics import roc_auc_score\n",
        "\n",
        "# carga de datos\n",
        "iris = datasets.load_iris()\n",
        "X = iris.data\n",
        "y = iris.target\n",
        "\n",
        "# Transformamos las clases que para tenga una salida binaria\n",
        "y = label_binarize(y, classes=[0, 1, 2])\n",
        "n_classes = y.shape[1]\n",
        "\n",
        "# Añade características con \"ruido\" para sumar dificultad a la clasificación\n",
        "random_state = np.random.RandomState(0)\n",
        "n_samples, n_features = X.shape\n",
        "X = np.c_[X, random_state.randn(n_samples, 200 * n_features)]\n",
        "\n",
        "# divide set de datos\n",
        "X_train, X_test, y_train, y_test = train_test_split(X, y, test_size=.5,\n",
        "                                                    random_state=0)\n",
        "\n",
        "# crea modelo clasificador\n",
        "classifier = OneVsRestClassifier(svm.SVC(kernel='linear', probability=True,\n",
        "                                 random_state=random_state))\n",
        "\n",
        "# entrena modelo\n",
        "y_score = classifier.fit(X_train, y_train).decision_function(X_test)\n",
        "\n",
        "# Calcula la curva ROC y su área para cada clase\n",
        "fpr = dict()\n",
        "tpr = dict()\n",
        "roc_auc = dict()\n",
        "for i in range(n_classes):\n",
        "    fpr[i], tpr[i], _ = roc_curve(y_test[:, i], y_score[:, i])\n",
        "    roc_auc[i] = auc(fpr[i], tpr[i])\n",
        "\n",
        "# Calcular el \"micro-promedio\" de la curva y su área\n",
        "fpr[\"micro\"], tpr[\"micro\"], _ = roc_curve(y_test.ravel(), y_score.ravel())\n",
        "roc_auc[\"micro\"] = auc(fpr[\"micro\"], tpr[\"micro\"])"
      ],
      "execution_count": null,
      "outputs": []
    },
    {
      "cell_type": "code",
      "metadata": {
        "id": "edxs-3XZwtL3",
        "outputId": "3376859f-7d2d-4acb-95dd-86c8ba2e3373",
        "colab": {
          "base_uri": "https://localhost:8080/",
          "height": 558
        }
      },
      "source": [
        "# Configura gráfico\n",
        "plt.figure()\n",
        "lw = 2\n",
        "plt.plot(fpr[2], tpr[2], color='darkorange',\n",
        "         lw=lw, label='Curva ROC (area = %0.2f)' % roc_auc[2])\n",
        "plt.plot([0, 1], [0, 1], color='navy', lw=lw, linestyle='--')\n",
        "plt.xlim([0.0, 1.0])\n",
        "plt.ylim([0.0, 1.05])\n",
        "plt.xlabel('Falso Positivo')\n",
        "plt.ylabel('Verdadero Positivo')\n",
        "plt.title('Ejemplo de característica operativa del receptor')\n",
        "plt.legend(loc=\"abajo a la derecha\")\n",
        "plt.show()"
      ],
      "execution_count": null,
      "outputs": [
        {
          "output_type": "stream",
          "text": [
            "/usr/local/lib/python3.6/dist-packages/ipykernel_launcher.py:12: MatplotlibDeprecationWarning: Unrecognized location 'abajo a la derecha'. Falling back on 'best'; valid locations are\n",
            "\tbest\n",
            "\tupper right\n",
            "\tupper left\n",
            "\tlower left\n",
            "\tlower right\n",
            "\tright\n",
            "\tcenter left\n",
            "\tcenter right\n",
            "\tlower center\n",
            "\tupper center\n",
            "\tcenter\n",
            "This will raise an exception in 3.3.\n",
            "  if sys.path[0] == '':\n"
          ],
          "name": "stderr"
        },
        {
          "output_type": "display_data",
          "data": {
            "image/png": "[encoded data removed]",
            "text/plain": [
              "<Figure size 432x288 with 1 Axes>"
            ]
          },
          "metadata": {
            "tags": [],
            "needs_background": "light"
          }
        }
      ]
    },
    {
      "cell_type": "markdown",
      "metadata": {
        "id": "9-lhbD2Hy-G9"
      },
      "source": [
        "# **Evaluando modelos de regresión** \n",
        "\n",
        "- [referencia](https://www.youtube.com/watch?v=F7xj8H_p288)"
      ]
    },
    {
      "cell_type": "code",
      "metadata": {
        "id": "lFMKHGJ3xe1K",
        "outputId": "9d5011dc-9990-48c0-e808-153148443060",
        "colab": {
          "base_uri": "https://localhost:8080/",
          "height": 287
        }
      },
      "source": [
        "import matplotlib.pyplot as plt\n",
        "import numpy as np\n",
        "from sklearn import datasets, linear_model\n",
        "from sklearn.metrics import mean_squared_error, r2_score\n",
        "\n",
        "# Carga de datos\n",
        "diabetes_X, diabetes_y = datasets.load_diabetes(return_X_y=True)\n",
        "\n",
        "# utiliza sólo 1 característica\n",
        "diabetes_X = diabetes_X[:, np.newaxis, 2]\n",
        "\n",
        "# Divide set de datos en subconjuntos de entrenamiento y testing\n",
        "diabetes_X_train = diabetes_X[:-20]\n",
        "diabetes_X_test = diabetes_X[-20:]\n",
        "\n",
        "# Divide variable target en subconjuntos de entrenamiento y testing\n",
        "diabetes_y_train = diabetes_y[:-20]\n",
        "diabetes_y_test = diabetes_y[-20:]\n",
        "\n",
        "# Crea modelo de tipo regresión lineal\n",
        "regr = linear_model.LinearRegression()\n",
        "\n",
        "# Entrena modelo con datos de entrenamiento\n",
        "regr.fit(diabetes_X_train, diabetes_y_train)\n",
        "\n",
        "# Hace predicciones con datos de testing\n",
        "diabetes_y_pred = regr.predict(diabetes_X_test)\n",
        "\n",
        "# Calcula error cuadrático medio\n",
        "print('* Error cuadrático medio (Mean squared error): %.2f'\n",
        "      % mean_squared_error(diabetes_y_test, diabetes_y_pred))\n",
        "# Calcula el coeficiente de determinación (r2)\n",
        "print('* Coeficiente de determinacion: %.2f'\n",
        "      % r2_score(diabetes_y_test, diabetes_y_pred))\n",
        "\n",
        "# Grafica resultados\n",
        "plt.scatter(diabetes_X_test, diabetes_y_test,  color='black')\n",
        "plt.plot(diabetes_X_test, diabetes_y_pred, color='blue', linewidth=3)\n",
        "\n",
        "plt.xticks(())\n",
        "plt.yticks(())\n",
        "\n",
        "plt.show()"
      ],
      "execution_count": null,
      "outputs": [
        {
          "output_type": "stream",
          "text": [
            "* Error cuadrático medio (Mean squared error): 2548.07\n",
            "* Coeficiente de determinacion: 0.47\n"
          ],
          "name": "stdout"
        },
        {
          "output_type": "display_data",
          "data": {
            "image/png": "[encoded data removed]",
            "text/plain": [
              "<Figure size 432x288 with 1 Axes>"
            ]
          },
          "metadata": {
            "tags": []
          }
        }
      ]
    },
    {
      "cell_type": "code",
      "metadata": {
        "id": "bfwvveCb8I2h"
      },
      "source": [
        ""
      ],
      "execution_count": null,
      "outputs": []
    }
  ]
}