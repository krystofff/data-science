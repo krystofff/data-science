{
  "nbformat": 4,
  "nbformat_minor": 0,
  "metadata": {
    "colab": {
      "name": "logistic_regression_teorico.ipynb",
      "provenance": [],
      "collapsed_sections": []
    },
    "kernelspec": {
      "name": "python3",
      "display_name": "Python 3"
    }
  },
  "cells": [
    {
      "cell_type": "markdown",
      "metadata": {
        "id": "Jc6F_8wMLzqa"
      },
      "source": [
        "# **Regresión Logística**\n",
        "\n",
        "### Aprendizaje Supervisado / Clasificación\n",
        "\n",
        "\n",
        "_Minería de datos_\n",
        "\n",
        "---\n",
        "\n",
        "## **Introducción**\n",
        "\n",
        "La regresión logística forma parte de la familia de algoritmos/modelos de aprendizaje supervisado y a pesar de su nombre, **su utilización es generalmente para tareas de clasificación**. La regresión logística puede entenderse como un tipo de  modelo lineal generalizado y como tales, **recibe un _input_ (variables/atributos) y estima una variable target como _output_**. Sin embargo, **a diferencia de la regresión lineal ordinaria**, en la regresión logística **la variable _target_ es de tipo binaria**, en vez de una continua, como hemos visto en ejemplos anteriores (sueldo de una persona/años de experiencia, valor de una casa, entre otros). Existen también variaciones del modelo de regresión logística que permiten realizar clasificaciones entre múltiples variables/clases _target_, sin embargo, nuestro foco se centrará netamente en variables _target_ binarias.\n",
        "\n",
        "La regresión logística es uno de los algoritmos de aprendizaje automático más simples y comúnmente utilizados para la clasificación de dos clases, se puede utilizar para varios problemas de clasificación, como la detección de spam, predicción de diabetes, o si un cliente determinado comprará un producto en particular, entre otros. Este modelo es fácil de implementar y puede usarse como base para cualquier problema de clasificación binaria.\n"
      ]
    },
    {
      "cell_type": "markdown",
      "metadata": {
        "id": "ReOWLD6KDjeG"
      },
      "source": [
        "## **Tipos de resultados**\n",
        "\n",
        "La clasificación binaria tiene 4 posibles resultados:\n",
        "\n",
        "1. **Negativos verdaderos**: negativos predichos correctamente (ceros)\n",
        "2. **Positivos verdaderos**: positivos pronosticados correctamente (unos)\n",
        "3. **Falsos negativos**: negativos incorrectamente pronosticados (ceros)\n",
        "4. **Positivos falsos**: positivos pronosticados incorrectamente (unos)\n",
        "\n",
        "Por lo general, el rendimiento del clasificador se evalúa comparando los resultados reales y pronosticados con las predicciones correctas e incorrectas. El indicador más directo de la precisión de la clasificación es la relación entre el número de predicciones correctas y el número total de predicciones (u observaciones)."
      ]
    },
    {
      "cell_type": "markdown",
      "metadata": {
        "id": "oDS4ha5JFyMm"
      },
      "source": [
        "## **La función Sigmoide**\n",
        "\n",
        "![img](https://drive.google.com/uc?id=1pZ2dcNs2LHAmfa9SKKp5n9DT9E48pVNc)\n",
        "\n",
        "La [función sigmoide](https://es.wikipedia.org/wiki/Funci%C3%B3n_sigmoide), también llamada función logística, proporciona una curva en forma de 'S' que **puede tomar cualquier número real y asignarlo a un valor entre 0 y 1**. Si la curva va al infinito positivo, la variable a predecir **_y_** se convertirá en 1, si la curva va al infinito negativo, **_y_** se convertirá en 0. Si la salida (output) de la función sigmoide es mayor a 0.5, podemos clasificar el resultado como 1 o _SÍ_, si es menor a 0.5, podemos clasificarlo como 0 o _NO_. Si el resultado/salida/output de la función es por ejemplo 0.75, podemos decir en términos de probabilidad: Hay un 75 por ciento de posibilidad de..."
      ]
    },
    {
      "cell_type": "markdown",
      "metadata": {
        "id": "MBMuKZwxJhWJ"
      },
      "source": [
        "## **Ejemplo**\n",
        "\n",
        "![img](https://drive.google.com/uc?id=1snre_8jeKdXSfGJkeVVBbKs4hWK63_s5)\n",
        "\n",
        "El gráfico ejemplifica un caso donde tenemos un set de datos de entrenamiento que especifica las horas de estudio de cada estudiante (x) y su probabilidad de aprobar el examen (y). Los puntos/datos en color rojo representan puntos/observaciones/registros de alumnos que no aprobaron el examen y los de color azul representan los casos en los cuales sí aprobaron el examen.\n",
        "\n",
        "- **x** : Horas de estudio\n",
        "- **y** : Probabilidad de aprobar el examen del curso"
      ]
    },
    {
      "cell_type": "markdown",
      "metadata": {
        "id": "PMIK7W02XzW1"
      },
      "source": [
        "## **Quiz retroactivo**:\n",
        "### a) ¿Qué es clasificación? ¿Qué diferencias posee comparada con la regresión?\n",
        "### b) **¿Cuál es la tarea de un modelo lineal?** (Apoyándonos en lo visto en clases y material pasadas)\n",
        "\n",
        "### c) En base a la pregunta anterior **¿Qué rol cumple el error y los tipos de error en general?**\n",
        "\n",
        "### d) Describe los tipos de errores, sus diferencias y casos de uso.\n",
        "\n",
        "[material complementario 1](https://www.iartificial.net/analisis-de-errores-en-machine-learning/)  \n",
        "[material complementario 2](https://ligdigonzalez.com/evaluando-el-error-en-los-modelos-de-clasificacion-machine-learning/)"
      ]
    },
    {
      "cell_type": "markdown",
      "metadata": {
        "id": "byFDBaTxOBC1"
      },
      "source": [
        "## **Aplicación**\n",
        "\n",
        "Con el material visto en clases y las actividades realizadas deberás:\n",
        "\n",
        "1. Realizar un análisis exploratorio de los datos\n",
        "2. Determinar si los datos requieren de limpieza y realizarla si es necesaria\n",
        "3. Crear un modelo de Machine Learning de tipo Regresión logística\n",
        "4. Entrenar el modelo siguiendo el flujo estándar\n",
        "5. Medir la precisión del modelo en conjunto con su error y explicitar qué tan bien se desempeña y por qué\n",
        "6. Proponer estrategias de optimización (texto)\n",
        "\n",
        "[Documentación scikit-learn](https://scikit-learn.org/stable/modules/generated/sklearn.linear_model.LogisticRegression.html)\n"
      ]
    },
    {
      "cell_type": "code",
      "metadata": {
        "id": "1PMFvnd-Orfu"
      },
      "source": [
        "from sklearn.datasets import load_digits\n",
        "digits = load_digits()\n"
      ],
      "execution_count": null,
      "outputs": []
    },
    {
      "cell_type": "code",
      "metadata": {
        "id": "Z34S72WCRAn0",
        "outputId": "76a8bc35-c2bd-4bcf-8a66-beeee91b661d",
        "colab": {
          "base_uri": "https://localhost:8080/",
          "height": 838
        }
      },
      "source": [
        "print(digits.DESCR)"
      ],
      "execution_count": null,
      "outputs": [
        {
          "output_type": "stream",
          "text": [
            ".. _digits_dataset:\n",
            "\n",
            "Optical recognition of handwritten digits dataset\n",
            "--------------------------------------------------\n",
            "\n",
            "**Data Set Characteristics:**\n",
            "\n",
            "    :Number of Instances: 5620\n",
            "    :Number of Attributes: 64\n",
            "    :Attribute Information: 8x8 image of integer pixels in the range 0..16.\n",
            "    :Missing Attribute Values: None\n",
            "    :Creator: E. Alpaydin (alpaydin '@' boun.edu.tr)\n",
            "    :Date: July; 1998\n",
            "\n",
            "This is a copy of the test set of the UCI ML hand-written digits datasets\n",
            "https://archive.ics.uci.edu/ml/datasets/Optical+Recognition+of+Handwritten+Digits\n",
            "\n",
            "The data set contains images of hand-written digits: 10 classes where\n",
            "each class refers to a digit.\n",
            "\n",
            "Preprocessing programs made available by NIST were used to extract\n",
            "normalized bitmaps of handwritten digits from a preprinted form. From a\n",
            "total of 43 people, 30 contributed to the training set and different 13\n",
            "to the test set. 32x32 bitmaps are divided into nonoverlapping blocks of\n",
            "4x4 and the number of on pixels are counted in each block. This generates\n",
            "an input matrix of 8x8 where each element is an integer in the range\n",
            "0..16. This reduces dimensionality and gives invariance to small\n",
            "distortions.\n",
            "\n",
            "For info on NIST preprocessing routines, see M. D. Garris, J. L. Blue, G.\n",
            "T. Candela, D. L. Dimmick, J. Geist, P. J. Grother, S. A. Janet, and C.\n",
            "L. Wilson, NIST Form-Based Handprint Recognition System, NISTIR 5469,\n",
            "1994.\n",
            "\n",
            ".. topic:: References\n",
            "\n",
            "  - C. Kaynak (1995) Methods of Combining Multiple Classifiers and Their\n",
            "    Applications to Handwritten Digit Recognition, MSc Thesis, Institute of\n",
            "    Graduate Studies in Science and Engineering, Bogazici University.\n",
            "  - E. Alpaydin, C. Kaynak (1998) Cascading Classifiers, Kybernetika.\n",
            "  - Ken Tang and Ponnuthurai N. Suganthan and Xi Yao and A. Kai Qin.\n",
            "    Linear dimensionalityreduction using relevance weighted LDA. School of\n",
            "    Electrical and Electronic Engineering Nanyang Technological University.\n",
            "    2005.\n",
            "  - Claudio Gentile. A New Approximate Maximal Margin Classification\n",
            "    Algorithm. NIPS. 2000.\n"
          ],
          "name": "stdout"
        }
      ]
    }
  ]
}